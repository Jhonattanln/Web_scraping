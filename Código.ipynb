{
 "cells": [
  {
   "cell_type": "markdown",
   "metadata": {},
   "source": [
    "### Web scraping com python"
   ]
  },
  {
   "cell_type": "markdown",
   "metadata": {},
   "source": [
    "Primeiramente devemos ja ter analisado o site em questão que sera efeituada a consulta"
   ]
  },
  {
   "cell_type": "code",
   "execution_count": 1,
   "metadata": {},
   "outputs": [],
   "source": [
    "### Bibliotecas\n",
    "import pandas as pd\n",
    "import requests\n",
    "from scrapy import Selector"
   ]
  },
  {
   "cell_type": "code",
   "execution_count": 2,
   "metadata": {},
   "outputs": [
    {
     "name": "stdout",
     "output_type": "stream",
     "text": [
      "['7,90\\xa0BRL']\n"
     ]
    }
   ],
   "source": [
    "### Consultando requests\n",
    "url = 'https://www.marketscreener.com/quote/stock/COMPANHIA-PARANAENSE-DE-E-6492838/consensus/'\n",
    "response = requests.get(url).content\n",
    "sel = Selector(text=response)\n",
    "xpath = '//table[@class=\"Bord\"]/tr[5]/td/b/text()'\n",
    "print(sel.xpath(xpath).extract())\n"
   ]
  }
 ],
 "metadata": {
  "kernelspec": {
   "display_name": "Python 3.10.1 64-bit",
   "language": "python",
   "name": "python3"
  },
  "language_info": {
   "codemirror_mode": {
    "name": "ipython",
    "version": 3
   },
   "file_extension": ".py",
   "mimetype": "text/x-python",
   "name": "python",
   "nbconvert_exporter": "python",
   "pygments_lexer": "ipython3",
   "version": "3.10.1"
  },
  "orig_nbformat": 4,
  "vscode": {
   "interpreter": {
    "hash": "5d8d6585ecff087aaf3b073ed02ff41e2b11ecd26d9208369c52fff222386239"
   }
  }
 },
 "nbformat": 4,
 "nbformat_minor": 2
}
