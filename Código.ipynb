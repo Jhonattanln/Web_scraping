{
 "cells": [
  {
   "cell_type": "markdown",
   "metadata": {},
   "source": [
    "### Web scraping com python"
   ]
  },
  {
   "cell_type": "code",
   "execution_count": 40,
   "metadata": {},
   "outputs": [],
   "source": [
    "### Bibliotecas\n",
    "import pandas as pd\n",
    "import requests ### para fazer requisições\n",
    "from scrapy import Selector ### para fazer scrapy"
   ]
  },
  {
   "cell_type": "markdown",
   "metadata": {},
   "source": [
    "Criação da classe para a consulta e extração do site"
   ]
  },
  {
   "cell_type": "code",
   "execution_count": 41,
   "metadata": {},
   "outputs": [],
   "source": [
    "class ConsultarRequests():\n",
    "    '''\n",
    "    Webscraper para consultar o site do MarketScreener\n",
    "    - O objetivo é extrair informações do valor médio do target dos analistas;\n",
    "    - Altera o tipo de dado para float;\n",
    "    - Retorna o valor médio do target dos analistas;\n",
    "    '''\n",
    "    def __init__(self, url, xpath):\n",
    "        self.url = url\n",
    "        self.xpath = xpath\n",
    "        self.response = requests.get(self.url).content\n",
    "        self.sel = Selector(text=self.response)\n",
    "\n",
    "    def consultar_requests(self):\n",
    "        target = self.sel.xpath(self.xpath).extract()\n",
    "        return float(target[0].strip('\\xa0BRL').replace(',', '.')) ### limpa valores do html\n",
    "\n"
   ]
  },
  {
   "cell_type": "code",
   "execution_count": 42,
   "metadata": {},
   "outputs": [],
   "source": [
    "### Objetos a serem consultados\n",
    "cple = 'https://www.marketscreener.com/quote/stock/COMPANHIA-PARANAENSE-DE-E-6492838/consensus/' ### url do site para CPLE6\n",
    "rapt = 'https://www.marketscreener.com/quote/stock/RANDON-S-A-IMPLEMENTOS-E-6493371/consensus/' ### url do site para RAPT\n",
    "posi = 'https://www.marketscreener.com/quote/stock/POSITIVO-TECNOLOGIA-S-A-6499388/consensus/' ### url do site para KLBN3\n",
    "xpath = '//table[@class=\"Bord\"]/tr[5]/td/b/text()' ### xpath para extrair o valor médio do target"
   ]
  },
  {
   "cell_type": "code",
   "execution_count": 43,
   "metadata": {},
   "outputs": [],
   "source": [
    "### Lista para a consulta\n",
    "list = [cple, rapt, posi]\n",
    "name = ['CPLE6', 'RAPT4', 'POSI3']"
   ]
  },
  {
   "cell_type": "code",
   "execution_count": 51,
   "metadata": {},
   "outputs": [],
   "source": [
    "targets = {}    \n",
    "for i in list:\n",
    "    for j in name:\n",
    "        if i == cple:\n",
    "            targets[j] = ConsultarRequests(i, xpath).consultar_requests()\n",
    "        elif i == rapt:\n",
    "            targets[j] = ConsultarRequests(i, xpath).consultar_requests()\n",
    "        elif i == posi:\n",
    "            targets[j] = ConsultarRequests(i, xpath).consultar_requests()\n",
    "\n",
    "    #targets[i] = ConsultarRequests(i, xpath).consultar_requests()\n",
    "    #targets[] = name[list.index(i)]"
   ]
  },
  {
   "cell_type": "code",
   "execution_count": 52,
   "metadata": {},
   "outputs": [
    {
     "data": {
      "text/plain": [
       "{'CPLE6': 12.0, 'RAPT4': 12.0, 'POSI3': 12.0}"
      ]
     },
     "execution_count": 52,
     "metadata": {},
     "output_type": "execute_result"
    }
   ],
   "source": [
    "targets"
   ]
  },
  {
   "cell_type": "code",
   "execution_count": null,
   "metadata": {},
   "outputs": [],
   "source": []
  }
 ],
 "metadata": {
  "kernelspec": {
   "display_name": "Python 3.10.1 64-bit",
   "language": "python",
   "name": "python3"
  },
  "language_info": {
   "codemirror_mode": {
    "name": "ipython",
    "version": 3
   },
   "file_extension": ".py",
   "mimetype": "text/x-python",
   "name": "python",
   "nbconvert_exporter": "python",
   "pygments_lexer": "ipython3",
   "version": "3.10.1"
  },
  "orig_nbformat": 4,
  "vscode": {
   "interpreter": {
    "hash": "5d8d6585ecff087aaf3b073ed02ff41e2b11ecd26d9208369c52fff222386239"
   }
  }
 },
 "nbformat": 4,
 "nbformat_minor": 2
}
